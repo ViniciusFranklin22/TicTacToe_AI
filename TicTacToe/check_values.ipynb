{
 "cells": [
  {
   "cell_type": "markdown",
   "metadata": {},
   "source": [
    "## Verificar Erros no CSV"
   ]
  },
  {
   "cell_type": "code",
   "execution_count": 1,
   "metadata": {},
   "outputs": [],
   "source": [
    "import numpy as np \n",
    "import pandas as pd\n",
    "import matplotlib.pyplot as plt\n",
    "from sklearn.preprocessing import StandardScaler,LabelEncoder,OneHotEncoder\n",
    "from imblearn.over_sampling import RandomOverSampler,SMOTE\n",
    "from sklearn.model_selection import train_test_split\n",
    "from sklearn.neighbors import KNeighborsClassifier\n",
    "from sklearn.metrics import classification_report\n",
    "import tensorflow as tf\n",
    "from sklearn.naive_bayes import GaussianNB\n",
    "from sklearn.linear_model import LogisticRegression\n",
    "from sklearn.svm import SVC\n"
   ]
  },
  {
   "cell_type": "code",
   "execution_count": 2,
   "metadata": {},
   "outputs": [],
   "source": [
    "cols = [\"Começou\", \"Jogada 1\", \"Jogada 2\",\"Jogada 3\", \"Jogada 4\", \"Jogada 5\", \"Jogada 6\",\n",
    "        \"Jogada 7\", \"Jogada 8\",\"Jogada 9\",'M00','M01','M02','M10','M11','M12','M20','M21','M22',\"Terminou na Rodada\",\"Ganhou\"]     \n",
    "\n",
    "tabuleiro_cols = ['M00','M01','M02','M10','M11','M12','M20','M21','M22']\n",
    "\n",
    "jogadas_list_cols = [\"Jogada 1\", \"Jogada 2\",\"Jogada 3\", \"Jogada 4\", \"Jogada 5\", \"Jogada 6\",\n",
    "                \"Jogada 7\", \"Jogada 8\",\"Jogada 9\"]\n",
    "        \n",
    "data =  pd.read_csv('jogadas.csv',names=cols)"
   ]
  },
  {
   "cell_type": "code",
   "execution_count": 3,
   "metadata": {},
   "outputs": [
    {
     "data": {
      "text/plain": [
       "22604"
      ]
     },
     "execution_count": 3,
     "metadata": {},
     "output_type": "execute_result"
    }
   ],
   "source": [
    "len(data)"
   ]
  },
  {
   "cell_type": "code",
   "execution_count": 4,
   "metadata": {},
   "outputs": [
    {
     "name": "stdout",
     "output_type": "stream",
     "text": [
      "[]\n"
     ]
    }
   ],
   "source": [
    "## Verifica erros de duplicidade de informação, ou seja, linha x coluna y sendo usadas mais de uma vez no mesmo jogo\n",
    "\n",
    "lista_erro_dupl_index = []\n",
    "erro_string = []\n",
    "quem_comecou = []\n",
    "dupl = []\n",
    "rodadaaa = []\n",
    "jogadas = ['Jogada 1', 'Jogada 2', 'Jogada 3', 'Jogada 4', 'Jogada 5',\n",
    "       'Jogada 6', 'Jogada 7', 'Jogada 8', 'Jogada 9']\n",
    "verify_error = data.copy()\n",
    "dicionario = {'Player': 0,'Computer':1}\n",
    "\n",
    "\n",
    "for i in range(len(verify_error)):\n",
    "    comp = -1\n",
    "    cont = 0\n",
    "    for col in jogadas:\n",
    "        value = verify_error.loc[i,col]\n",
    "        if (value == comp) and (value != '0'):\n",
    "            cont +=1\n",
    "            lista_erro_dupl_index.append(i)\n",
    "            erro_string.append(f\"VALUE: {value}| COMP: {comp}\")\n",
    "            if (verify_error.loc[i,'Começou'] == dicionario['Computer']) and (int(col[-1])%2 != 0):\n",
    "                quem_comecou.append(f'Computador Error C')\n",
    "            elif (verify_error.loc[i,'Começou'] == dicionario['Computer']) and (int(col[-1])%2 == 0):\n",
    "                quem_comecou.append(f'Player Error C')\n",
    "            elif (verify_error.loc[i,'Começou'] == dicionario['Player']) and (int(col[-1])%2 != 0):\n",
    "                quem_comecou.append(f'Player Error P')\n",
    "            elif (verify_error.loc[i,'Começou'] == dicionario['Player']) and (int(col[-1])%2 == 0):\n",
    "                quem_comecou.append(f'Computer Error P')\n",
    "            rodadaaa.append(col)\n",
    "            break\n",
    "        comp = value\n",
    "            \n",
    "    if cont > 1:\n",
    "        dupl.append('Linha {i}, {cont} Vezes')\n",
    "            \n",
    "print(lista_erro_dupl_index)\n",
    "        \n",
    "    "
   ]
  },
  {
   "cell_type": "code",
   "execution_count": 5,
   "metadata": {},
   "outputs": [],
   "source": [
    "def check_if_win(states):\n",
    "    \"\"\"Check if there's a winner or a tie.\"\"\"\n",
    "    for i in range(3):\n",
    "        # Check rows\n",
    "        if states[i][0] == states[i][1] == states[i][2] != 0:\n",
    "            return ['Ganhou',states[i][0]]\n",
    "\n",
    "        # Check columns\n",
    "        if states[0][i] == states[1][i] == states[2][i] != 0:\n",
    "            return ['Ganhou',states[0][i]]\n",
    "\n",
    "    # Check diagonals\n",
    "    if states[0][0] == states[1][1] == states[2][2] != 0:\n",
    "        return ['Ganhou',states[1][1]]\n",
    "    \n",
    "    if states[0][2] == states[1][1] == states[2][0] != 0:\n",
    "        return ['Ganhou',states[1][1]]\n",
    "\n",
    "    # Check for tie (if all spots are filled and no winner)\n",
    "    if all(cell != 0 for row in states for cell in row):\n",
    "        return ['Empate','']\n",
    "    return ['','']\n"
   ]
  },
  {
   "cell_type": "code",
   "execution_count": 6,
   "metadata": {},
   "outputs": [
    {
     "data": {
      "text/plain": [
       "[]"
      ]
     },
     "execution_count": 6,
     "metadata": {},
     "output_type": "execute_result"
    }
   ],
   "source": [
    "# Check if the Win Column and the finish column is right \n",
    "# If the game result is correct\n",
    "states = [\n",
    "            [0, 0, 0],\n",
    "            [0, 0, 0],\n",
    "            [0, 0, 0]\n",
    "        ]\n",
    "problem_list_index_winner = []\n",
    "problem_list_index_states = []\n",
    "check_win_data = data.copy()\n",
    "for i in range(len(check_win_data)):\n",
    "    count_rodada = 0\n",
    "    states = [\n",
    "            [0, 0, 0],\n",
    "            [0, 0, 0],\n",
    "            [0, 0, 0]\n",
    "        ]\n",
    "    vencedor = []\n",
    "    #print(i)\n",
    "    for col in tabuleiro_cols:\n",
    "        value = check_win_data.loc[i,col]\n",
    "        #print(f'Posição {col}, Valor -> {value}')\n",
    "        #print(int(col[1]),int(col[-1]))\n",
    "        if value == \"Computer Played\":\n",
    "            states[int(col[1])][int(col[-1])] = 'X'\n",
    "            count_rodada += 1\n",
    "            if check_if_win(states)[0] == 'Ganhou' and check_if_win(states)[1] == 'X':\n",
    "                vencedor.append(check_if_win(states)[0])\n",
    "            elif check_if_win(states)[0] == 'Empate':\n",
    "                vencedor.append(check_if_win(states)[0])\n",
    "        elif value == \"Opponent Played\":\n",
    "            states[int(col[1])][int(col[-1])]= 'O'\n",
    "            count_rodada += 1\n",
    "            if ((check_if_win(states)[0] == 'Ganhou') and (check_if_win(states)[1] == 'O')):\n",
    "                vencedor.append('Perdeu')\n",
    "            elif check_if_win(states)[0] == 'Empate':\n",
    "                vencedor.append(check_if_win(states)[0])\n",
    "    vencedor = list(dict.fromkeys(vencedor))\n",
    "\n",
    "    if vencedor != []:    \n",
    "        for win in vencedor:\n",
    "            if (win != check_win_data.loc[i,'Ganhou']):\n",
    "                problem_list_index_winner.append(i)\n",
    "                problem_list_index_states.append(states)\n",
    "    else:\n",
    "        problem_list_index_winner.append(i)\n",
    "        problem_list_index_states.append(states)\n",
    "                \n",
    "\n",
    "    \n",
    "        #states[value[1:]]\n",
    "    \n",
    "problem_list_index_winner\n"
   ]
  },
  {
   "cell_type": "code",
   "execution_count": 7,
   "metadata": {},
   "outputs": [
    {
     "data": {
      "text/plain": [
       "[]"
      ]
     },
     "execution_count": 7,
     "metadata": {},
     "output_type": "execute_result"
    }
   ],
   "source": [
    "# Verificar se a matrix esta correta\n",
    "check_pos = data.copy()\n",
    "\n",
    "who_played = ['Computer Played', 'Opponent Played']\n",
    "number_player = {'Player': 0,'Computer':1}\n",
    "\n",
    "jogadas = ['Jogada 1', 'Jogada 2', 'Jogada 3', 'Jogada 4', 'Jogada 5',\n",
    "       'Jogada 6', 'Jogada 7', 'Jogada 8', 'Jogada 9']\n",
    "\n",
    "problem_list_index_matrix = []\n",
    "for i in range(len(check_pos)):\n",
    "    who = ''\n",
    "    error_matriz = []\n",
    "    if check_pos.loc[i,'Começou'] == number_player['Computer']:\n",
    "        who = who_played[0]\n",
    "    elif check_pos.loc[i,'Começou'] == number_player['Player']:\n",
    "        who = who_played[1]        \n",
    "    for col in jogadas:\n",
    "        value = check_pos.loc[i,col]\n",
    "        if value != '0':\n",
    "            string = f'M{value[7]}{value[-1]}'\n",
    "            if check_pos.loc[i,string] != who:\n",
    "                error_matriz.append(f'Posição {value} valor {who}, na tabela esta {string}')\n",
    "        elif value == '0':\n",
    "            break\n",
    "        who = who_played[1] if who == who_played[0] else who_played[0]\n",
    "            #print(i,col,who)\n",
    "    if error_matriz != []:\n",
    "        problem_list_index_matrix.append(i)\n",
    "    \n",
    "\n",
    "\n",
    "\n",
    "problem_list_index_matrix\n",
    "\n"
   ]
  },
  {
   "cell_type": "code",
   "execution_count": 8,
   "metadata": {},
   "outputs": [
    {
     "name": "stdout",
     "output_type": "stream",
     "text": [
      "Indexes com problemas: \n",
      "Duplicidade de Valores nas células:\n",
      "[]\n",
      "Problema de Erro na avaliação da vitória\n",
      "[]\n",
      "Problema na construção da matrix de jogo\n",
      "[]\n"
     ]
    }
   ],
   "source": [
    "print(f'Indexes com problemas: \\nDuplicidade de Valores nas células:\\n{lista_erro_dupl_index}\\nProblema de Erro na avaliação da vitória\\n{problem_list_index_winner}')\n",
    "print(f'Problema na construção da matrix de jogo\\n{problem_list_index_matrix}')"
   ]
  },
  {
   "cell_type": "code",
   "execution_count": 9,
   "metadata": {},
   "outputs": [],
   "source": [
    "do =  input('Would you like to pop the data with problem?\\nYes or No')\n",
    "\n",
    "if do=='Yes':\n",
    "    to_pop = lista_erro_dupl_index + problem_list_index_winner + problem_list_index_matrix\n",
    "    to_pop = list(dict.fromkeys(to_pop))\n",
    "    data.drop(to_pop,axis='index',inplace=True)\n",
    "    data.reset_index(drop=True,inplace=True)\n"
   ]
  },
  {
   "cell_type": "code",
   "execution_count": 10,
   "metadata": {},
   "outputs": [],
   "source": [
    "# Se precisar, caso não deixar comentado\n",
    "# data.to_csv('jogadas.csv',columns=cols,index=False,header=False)"
   ]
  },
  {
   "cell_type": "code",
   "execution_count": 11,
   "metadata": {},
   "outputs": [
    {
     "data": {
      "text/plain": [
       "22604"
      ]
     },
     "execution_count": 11,
     "metadata": {},
     "output_type": "execute_result"
    }
   ],
   "source": [
    "len(data)"
   ]
  },
  {
   "cell_type": "code",
   "execution_count": 12,
   "metadata": {},
   "outputs": [],
   "source": [
    "## KNN model\n",
    "# Tirando as colunas das jogadas seguintes o resultado piora\n",
    "# Retirando as colunas que coloqui posteriormente de posição na matriz o resultado piora\n",
    "# 'M00','M01','M02','M10','M11','M12','M20','M21','M22',\"Terminou na Rodada\"\n",
    "# filtrando apenas pelas vitórias, o que teoricamente poderia ajudar a apenas ter vitórias não ajuda, mas dependendo do numero de vizinhos pode ajudar\n",
    "# https://www.statology.org/sklearn-classification-report/\n",
    "#for i in range(9):\n",
    "#    jogada_a_analisar = f'Jogada {i+1}'\n",
    "#    numero = int(jogada_a_analisar[-1])\n",
    "#    colunas_para_tirar = []#jogadas_list_cols[numero:]\n",
    "#    #test_lb_encoder = test_lb_encoder[test_lb_encoder['Ganhou']==map_column_ganhou['Ganhou']]\n",
    "#    train_lb_array, X_train_lb_encoder, y_train_lb_encoder = scale_dataset(train_lb_encoder[train_lb_encoder.columns.drop(colunas_para_tirar)],jogada_a_analisar,oversample=True)\n",
    "#    test_lb_array, X_test_lb_encoder, y_test_lb_encoder = scale_dataset(test_lb_encoder[test_lb_encoder.columns.drop(colunas_para_tirar)],jogada_a_analisar,oversample=False)\n",
    "#    \n",
    "#    knn_model = KNeighborsClassifier(n_neighbors=3)\n",
    "#    knn_model.fit(X_train_lb_encoder,y_train_lb_encoder)\n",
    "#    y_pred = knn_model.predict(X_test_lb_encoder)\n",
    "#    #print(y_test_lb_encoder,y_pred)\n",
    "#    print(f'Rodada Analisada {i+1}')\n",
    "#    print(classification_report(y_test_lb_encoder,y_pred,zero_division=0))\n",
    "#    #classification_report(y_test_lb_encoder,y_pred)"
   ]
  },
  {
   "cell_type": "code",
   "execution_count": null,
   "metadata": {},
   "outputs": [],
   "source": []
  },
  {
   "cell_type": "code",
   "execution_count": null,
   "metadata": {},
   "outputs": [],
   "source": []
  },
  {
   "cell_type": "code",
   "execution_count": null,
   "metadata": {},
   "outputs": [],
   "source": []
  }
 ],
 "metadata": {
  "kernelspec": {
   "display_name": "myenv",
   "language": "python",
   "name": "python3"
  },
  "language_info": {
   "codemirror_mode": {
    "name": "ipython",
    "version": 3
   },
   "file_extension": ".py",
   "mimetype": "text/x-python",
   "name": "python",
   "nbconvert_exporter": "python",
   "pygments_lexer": "ipython3",
   "version": "3.9.19"
  }
 },
 "nbformat": 4,
 "nbformat_minor": 2
}
